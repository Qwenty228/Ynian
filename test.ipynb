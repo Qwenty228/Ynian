{
 "cells": [
  {
   "cell_type": "code",
   "execution_count": 1,
   "metadata": {},
   "outputs": [
    {
     "name": "stdout",
     "output_type": "stream",
     "text": [
      "showing info https://raw.githubusercontent.com/nltk/nltk_data/gh-pages/index.xml\n"
     ]
    },
    {
     "data": {
      "text/plain": [
       "True"
      ]
     },
     "execution_count": 1,
     "metadata": {},
     "output_type": "execute_result"
    }
   ],
   "source": [
    "import nltk\n",
    "\n",
    "nltk.download()"
   ]
  },
  {
   "cell_type": "markdown",
   "metadata": {},
   "source": [
    "# Tokenizing\n",
    "- word tokenizers.... sentence tokenizers  \n",
    "lexicon and corporas  \n",
    "lexicon - words and their means. \n",
    "ex: investor-speak 'bull' = someone who is positive about the market\n",
    "    english-speak  'bull' = scary animal you don't want running @ you\n",
    "corpora - body of text. ex: medical jorunals, presidential speeches, English language"
   ]
  },
  {
   "cell_type": "code",
   "execution_count": 5,
   "metadata": {},
   "outputs": [
    {
     "name": "stdout",
     "output_type": "stream",
     "text": [
      "['Hello Mr. Smith, how are you today?', 'The weather is great and Python is awesome.', 'The sky is pinkish-blue.', 'And you should not eat cardboard']\n",
      "['Hello', 'Mr.', 'Smith', ',', 'how', 'are', 'you', 'today', '?', 'The', 'weather', 'is', 'great', 'and', 'Python', 'is', 'awesome', '.', 'The', 'sky', 'is', 'pinkish-blue', '.', 'And', 'you', 'should', 'not', 'eat', 'cardboard']\n"
     ]
    }
   ],
   "source": [
    "from nltk import sent_tokenize,word_tokenize\n",
    "\n",
    "example_text = \"Hello Mr. Smith, how are you today? The weather is great and Python is awesome. The sky is pinkish-blue. And you should not eat cardboard\"\n",
    "\n",
    "\n",
    "print(sent_tokenize(example_text))\n",
    "print(word_tokenize(example_text))"
   ]
  },
  {
   "cell_type": "code",
   "execution_count": 9,
   "metadata": {},
   "outputs": [
    {
     "name": "stdout",
     "output_type": "stream",
     "text": [
      "{'are', 'o', 'has', \"doesn't\", 'few', \"wasn't\", 'these', \"mustn't\", 'and', 'its', \"it's\", 'down', 't', 'yourselves', 'yours', 'you', 'so', 'where', 'his', \"you'd\", 'hasn', 'ours', \"shan't\", 'what', 'her', 'there', 'ourselves', 'about', 'again', 'more', 'an', \"wouldn't\", 'who', 'a', \"didn't\", 'we', 'some', 'he', 'aren', \"mightn't\", 'was', 'be', 'this', 'very', 'from', \"aren't\", 'do', 've', 'she', 'your', 'while', 'just', 'have', 'they', \"should've\", 'won', \"couldn't\", 'me', 'wouldn', 'how', 'whom', 'had', 'i', 'needn', \"hadn't\", 'through', 'that', 'y', 'because', 'my', 'than', 'been', 'were', \"won't\", 'don', 'herself', 'having', 'under', 'as', 'those', 'or', \"hasn't\", 'nor', 'until', 'yourself', 'same', 'couldn', 'haven', \"she's\", 'up', 'between', 'once', 'why', \"haven't\", 'does', 'doesn', 'off', 'himself', 'after', 'should', 'here', 'shouldn', 'both', \"that'll\", \"isn't\", 'no', 'own', \"needn't\", 'during', 'any', 'isn', 'itself', 'all', 'themselves', 'mightn', 'when', 'before', 'hers', 'into', 'ain', 'now', 'myself', 'didn', 'ma', 'over', 'hadn', 'each', 're', 'then', 'them', 'such', 'in', 'him', 'but', 'weren', \"you're\", 'm', 'other', 'if', 'our', 'shan', 'for', 'too', 'with', 'will', 'am', 'above', 'to', 'which', \"you'll\", 'can', 'it', 'theirs', 'only', 'did', 'against', 'of', 'most', 'the', 'their', 'is', 'doing', 'wasn', 'mustn', 'at', 'by', \"you've\", 'below', 'out', 'further', 'not', \"don't\", 'll', \"weren't\", 'on', 'being', 's', 'd', \"shouldn't\"}\n"
     ]
    }
   ],
   "source": [
    "from nltk.corpus import stopwords\n",
    "from nltk.tokenize import word_tokenize\n",
    "\n",
    "example_text = \"This is an example showing off stop word filtration.\"\n",
    "stop_words = set(stopwords.words('english'))\n",
    "\n",
    "print(stop_words)"
   ]
  },
  {
   "cell_type": "code",
   "execution_count": 10,
   "metadata": {},
   "outputs": [
    {
     "name": "stdout",
     "output_type": "stream",
     "text": [
      "['This', 'example', 'showing', 'stop', 'word', 'filtration', '.']\n"
     ]
    }
   ],
   "source": [
    "words = word_tokenize(example_text)\n",
    "\n",
    "filtered_sentence = [w for w in words if w not in stop_words]\n",
    "\n",
    "\n",
    "print(filtered_sentence)"
   ]
  },
  {
   "cell_type": "code",
   "execution_count": 12,
   "metadata": {},
   "outputs": [
    {
     "name": "stdout",
     "output_type": "stream",
     "text": [
      "['python', 'python', 'python', 'python', 'pythonli']\n"
     ]
    }
   ],
   "source": [
    "from nltk.stem import PorterStemmer\n",
    "from nltk.tokenize import word_tokenize\n",
    "\n",
    "ps = PorterStemmer()\n",
    "\n",
    "example_words = ['python', 'pythoner', 'pythoning', 'pythoned', 'pythonly']\n",
    "\n",
    "stemed = [ps.stem(w) for w in example_words]\n",
    "print(stemed)"
   ]
  },
  {
   "cell_type": "code",
   "execution_count": 13,
   "metadata": {},
   "outputs": [
    {
     "name": "stdout",
     "output_type": "stream",
     "text": [
      "['it', 'is', 'veri', 'import', 'to', 'be', 'pythonli', 'while', 'you', 'are', 'python', 'with', 'python', '.', 'all', 'python', 'have', 'python', 'poorli', 'at', 'least', 'onc', '.']\n"
     ]
    }
   ],
   "source": [
    "new_text = 'it is very important to be pythonly while you are pythoning with python. All pythoners have pythoned poorly at least once.'\n",
    "\n",
    "words = word_tokenize(new_text)\n",
    "\n",
    "stemed = [ps.stem(w) for w in words]\n",
    "print(stemed)\n"
   ]
  },
  {
   "cell_type": "code",
   "execution_count": 14,
   "metadata": {},
   "outputs": [
    {
     "ename": "TypeError",
     "evalue": "list expected at most 1 argument, got 2",
     "output_type": "error",
     "traceback": [
      "\u001b[1;31m---------------------------------------------------------------------------\u001b[0m",
      "\u001b[1;31mTypeError\u001b[0m                                 Traceback (most recent call last)",
      "\u001b[1;32m~\\AppData\\Local\\Temp/ipykernel_21544/4271087843.py\u001b[0m in \u001b[0;36m<module>\u001b[1;34m\u001b[0m\n\u001b[0;32m      3\u001b[0m \u001b[1;32mfrom\u001b[0m \u001b[0mnltk\u001b[0m\u001b[1;33m.\u001b[0m\u001b[0mcorpus\u001b[0m \u001b[1;32mimport\u001b[0m \u001b[0mmovie_reviews\u001b[0m\u001b[1;33m\u001b[0m\u001b[1;33m\u001b[0m\u001b[0m\n\u001b[0;32m      4\u001b[0m \u001b[1;33m\u001b[0m\u001b[0m\n\u001b[1;32m----> 5\u001b[1;33m documents = [(list(movie_reviews.words(fileid), category)) \n\u001b[0m\u001b[0;32m      6\u001b[0m                 \u001b[1;32mfor\u001b[0m \u001b[0mcategory\u001b[0m \u001b[1;32min\u001b[0m \u001b[0mmovie_reviews\u001b[0m\u001b[1;33m.\u001b[0m\u001b[0mcategories\u001b[0m\u001b[1;33m(\u001b[0m\u001b[1;33m)\u001b[0m\u001b[1;33m\u001b[0m\u001b[1;33m\u001b[0m\u001b[0m\n\u001b[0;32m      7\u001b[0m                 for fileid in movie_reviews.fileids(category)]\n",
      "\u001b[1;32m~\\AppData\\Local\\Temp/ipykernel_21544/4271087843.py\u001b[0m in \u001b[0;36m<listcomp>\u001b[1;34m(.0)\u001b[0m\n\u001b[0;32m      3\u001b[0m \u001b[1;32mfrom\u001b[0m \u001b[0mnltk\u001b[0m\u001b[1;33m.\u001b[0m\u001b[0mcorpus\u001b[0m \u001b[1;32mimport\u001b[0m \u001b[0mmovie_reviews\u001b[0m\u001b[1;33m\u001b[0m\u001b[1;33m\u001b[0m\u001b[0m\n\u001b[0;32m      4\u001b[0m \u001b[1;33m\u001b[0m\u001b[0m\n\u001b[1;32m----> 5\u001b[1;33m documents = [(list(movie_reviews.words(fileid), category)) \n\u001b[0m\u001b[0;32m      6\u001b[0m                 \u001b[1;32mfor\u001b[0m \u001b[0mcategory\u001b[0m \u001b[1;32min\u001b[0m \u001b[0mmovie_reviews\u001b[0m\u001b[1;33m.\u001b[0m\u001b[0mcategories\u001b[0m\u001b[1;33m(\u001b[0m\u001b[1;33m)\u001b[0m\u001b[1;33m\u001b[0m\u001b[1;33m\u001b[0m\u001b[0m\n\u001b[0;32m      7\u001b[0m                 for fileid in movie_reviews.fileids(category)]\n",
      "\u001b[1;31mTypeError\u001b[0m: list expected at most 1 argument, got 2"
     ]
    }
   ],
   "source": [
    "import nltk\n",
    "import random\n",
    "from nltk.corpus import movie_reviews\n",
    "\n",
    "documents = [(list(movie_reviews.words(fileid)), category)\n",
    "                for category in movie_reviews.categories() \n",
    "                for fileid in movie_reviews.fileids(category)]\n",
    "\n",
    "random.shuffle(documents)\n",
    "\n",
    "print(documents[0])"
   ]
  }
 ],
 "metadata": {
  "kernelspec": {
   "display_name": "Python 3.8.10 64-bit",
   "language": "python",
   "name": "python3"
  },
  "language_info": {
   "codemirror_mode": {
    "name": "ipython",
    "version": 3
   },
   "file_extension": ".py",
   "mimetype": "text/x-python",
   "name": "python",
   "nbconvert_exporter": "python",
   "pygments_lexer": "ipython3",
   "version": "3.8.10"
  },
  "orig_nbformat": 4,
  "vscode": {
   "interpreter": {
    "hash": "acbc1547fcd22fc150b8a881fbc6592d8ceb2762ab8e1f447cd8f7bfd8383153"
   }
  }
 },
 "nbformat": 4,
 "nbformat_minor": 2
}
